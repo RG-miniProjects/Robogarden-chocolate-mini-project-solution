{
 "cells": [
  {
   "cell_type": "markdown",
   "metadata": {},
   "source": [
    "# Import libraries"
   ]
  },
  {
   "cell_type": "code",
   "execution_count": 3,
   "metadata": {},
   "outputs": [],
   "source": [
    "import pandas as pd\n",
    "import numpy as np\n",
    "from sklearn.preprocessing import StandardScaler\n",
    "from sklearn.preprocessing import LabelEncoder"
   ]
  },
  {
   "cell_type": "markdown",
   "metadata": {},
   "source": [
    "# Read dataset and handle missing values"
   ]
  },
  {
   "cell_type": "code",
   "execution_count": 4,
   "metadata": {},
   "outputs": [
    {
     "name": "stdout",
     "output_type": "stream",
     "text": [
      "  Company \\n(Maker-if known) Specific Bean Origin\\nor Bar Name   REF  \\\n",
      "0                   A. Morin                       Agua Grande  1876   \n",
      "1                   A. Morin                             Kpime  1676   \n",
      "2                   A. Morin                            Atsane  1676   \n",
      "3                   A. Morin                             Akata  1680   \n",
      "4                   A. Morin                            Quilla  1704   \n",
      "\n",
      "   Review\\nDate Cocoa\\nPercent Company\\nLocation  Rating Bean\\nType  \\\n",
      "0          2016            63%            France    3.75              \n",
      "1          2015            70%            France    2.75              \n",
      "2          2015            70%            France    3.00              \n",
      "3          2015            70%            France    3.50              \n",
      "4          2015            70%            France    3.50              \n",
      "\n",
      "  Broad Bean\\nOrigin  \n",
      "0           Sao Tome  \n",
      "1               Togo  \n",
      "2               Togo  \n",
      "3               Togo  \n",
      "4               Peru  \n",
      "new names: Index(['Company (Maker-if known)', 'Specific Bean Originor Bar Name', 'REF',\n",
      "       'ReviewDate', 'CocoaPercent', 'CompanyLocation', 'Rating', 'BeanType',\n",
      "       'Broad BeanOrigin'],\n",
      "      dtype='object')\n",
      "number of missing at each attribute:\n",
      "Company (Maker-if known)           0\n",
      "Specific Bean Originor Bar Name    0\n",
      "REF                                0\n",
      "ReviewDate                         0\n",
      "CocoaPercent                       0\n",
      "CompanyLocation                    0\n",
      "Rating                             0\n",
      "BeanType                           1\n",
      "Broad BeanOrigin                   1\n",
      "dtype: int64\n",
      "number of rows before removing missing entries: 1795\n",
      "number of rows after removing missing entries: 1793\n"
     ]
    }
   ],
   "source": [
    "df_1=pd.read_csv(\"flavors_of_cacao.csv\")\n",
    "print(df_1.head())\n",
    "## replace \\n in columns name with ''\n",
    "df_1.columns= df_1.columns.str.replace('\\n','',regex=True)\n",
    "## replace latin space (u'\\xa0') with a space (u' ') \n",
    "df_1.columns= df_1.columns.str.replace(u'\\xa0', u' ',regex=True)\n",
    "##replace all latin space in the dataset with a space\n",
    "df_1=df_1.replace(u'\\xa0', u' ',regex=True)\n",
    "print(\"new names:\",df_1.columns) \n",
    "##count number of missing in the dataset\n",
    "print(\"number of missing at each attribute:\")\n",
    "print(df_1.isnull().sum())\n",
    "## number of rows before removing the missing entries\n",
    "print(\"number of rows before removing missing entries:\", df_1.shape[0])\n",
    "## remove missing entries \n",
    "df=df_1.dropna()\n",
    "## number of rows after removing the missing entries\n",
    "print(\"number of rows after removing missing entries:\", df.shape[0])"
   ]
  },
  {
   "cell_type": "markdown",
   "metadata": {},
   "source": [
    "# Exploring Dataset"
   ]
  },
  {
   "cell_type": "code",
   "execution_count": 5,
   "metadata": {},
   "outputs": [
    {
     "name": "stdout",
     "output_type": "stream",
     "text": [
      "number of tuples= 1793\n",
      "number of unique company names:  416\n",
      "number of reviews in 2013= 184\n",
      "number of missing in the beanType attribute= 887\n"
     ]
    }
   ],
   "source": [
    "# count number of tuples\n",
    "print(\"number of tuples=\",df.shape[0])\n",
    "# get number of unique company names\n",
    "print(\"number of unique company names: \",df[\"Company (Maker-if known)\"].nunique())\n",
    "# number of reviews in 2013\n",
    "reviews_2013=np.sum(df[\"ReviewDate\"]==2013)\n",
    "print(\"number of reviews in 2013=\",reviews_2013)\n",
    "# get number of missing in the beanType.\n",
    "print(\"number of missing in the beanType attribute=\",np.sum(df[\"BeanType\"]==' '))\n"
   ]
  },
  {
   "cell_type": "markdown",
   "metadata": {},
   "source": [
    "# Visualizaion"
   ]
  },
  {
   "cell_type": "code",
   "execution_count": 6,
   "metadata": {},
   "outputs": [
    {
     "data": {
      "text/plain": [
       "<matplotlib.axes._subplots.AxesSubplot at 0x1e83c818048>"
      ]
     },
     "execution_count": 6,
     "metadata": {},
     "output_type": "execute_result"
    },
    {
     "data": {
      "image/png": "[encoded data removed]",
      "text/plain": [
       "<Figure size 432x288 with 1 Axes>"
      ]
     },
     "metadata": {
      "needs_background": "light"
     },
     "output_type": "display_data"
    }
   ],
   "source": [
    "# draw histogram for Rating\n",
    "df[\"Rating\"].plot.hist()"
   ]
  },
  {
   "cell_type": "markdown",
   "metadata": {},
   "source": [
    "# comment\n",
    "##### The rating between 3 and 3.5 is the highest frequency among the rating data."
   ]
  },
  {
   "cell_type": "markdown",
   "metadata": {},
   "source": [
    "# Convert and Visualize"
   ]
  },
  {
   "cell_type": "code",
   "execution_count": 7,
   "metadata": {},
   "outputs": [
    {
     "name": "stdout",
     "output_type": "stream",
     "text": [
      "Company (Maker-if known)            object\n",
      "Specific Bean Originor Bar Name     object\n",
      "REF                                  int64\n",
      "ReviewDate                           int64\n",
      "CocoaPercent                       float64\n",
      "CompanyLocation                     object\n",
      "Rating                             float64\n",
      "BeanType                            object\n",
      "Broad BeanOrigin                    object\n",
      "dtype: object\n"
     ]
    },
    {
     "name": "stderr",
     "output_type": "stream",
     "text": [
      "C:\\Users\\ME-LT\\Anaconda3\\lib\\site-packages\\ipykernel_launcher.py:2: SettingWithCopyWarning: \n",
      "A value is trying to be set on a copy of a slice from a DataFrame.\n",
      "Try using .loc[row_indexer,col_indexer] = value instead\n",
      "\n",
      "See the caveats in the documentation: http://pandas.pydata.org/pandas-docs/stable/user_guide/indexing.html#returning-a-view-versus-a-copy\n",
      "  \n",
      "C:\\Users\\ME-LT\\Anaconda3\\lib\\site-packages\\ipykernel_launcher.py:4: SettingWithCopyWarning: \n",
      "A value is trying to be set on a copy of a slice from a DataFrame.\n",
      "Try using .loc[row_indexer,col_indexer] = value instead\n",
      "\n",
      "See the caveats in the documentation: http://pandas.pydata.org/pandas-docs/stable/user_guide/indexing.html#returning-a-view-versus-a-copy\n",
      "  after removing the cwd from sys.path.\n"
     ]
    },
    {
     "data": {
      "text/plain": [
       "<matplotlib.axes._subplots.AxesSubplot at 0x1e83d0eb5f8>"
      ]
     },
     "execution_count": 7,
     "metadata": {},
     "output_type": "execute_result"
    },
    {
     "data": {
      "image/png": "[encoded data removed]",
      "text/plain": [
       "<Figure size 432x288 with 1 Axes>"
      ]
     },
     "metadata": {
      "needs_background": "light"
     },
     "output_type": "display_data"
    }
   ],
   "source": [
    "## convert type of CocoaPercent from string to integer\n",
    "df['CocoaPercent']=df['CocoaPercent'].replace(\"%\",\"\",regex=True)\n",
    "# print(\"column=\", df['CocoaPercent'])\n",
    "df['CocoaPercent']=df['CocoaPercent'].astype(\"float64\")\n",
    "print(df.dtypes)\n",
    "##plot scatter\n",
    "df.plot.scatter(x ='CocoaPercent', y = \"Rating\", alpha=0.1)"
   ]
  },
  {
   "cell_type": "markdown",
   "metadata": {},
   "source": [
    "# comment \n",
    "From scatter plot, when the numnber of cocoa increases, the rating doesn't increase with it. "
   ]
  },
  {
   "cell_type": "markdown",
   "metadata": {},
   "source": [
    "# Normalization "
   ]
  },
  {
   "cell_type": "code",
   "execution_count": 8,
   "metadata": {},
   "outputs": [
    {
     "name": "stdout",
     "output_type": "stream",
     "text": [
      "rating normalized= 0       1.181356\n",
      "1      -0.912734\n",
      "2      -0.389211\n",
      "3       0.657834\n",
      "4       0.657834\n",
      "          ...   \n",
      "1790    1.181356\n",
      "1791   -0.389211\n",
      "1792    0.657834\n",
      "1793    0.134311\n",
      "1794   -0.389211\n",
      "Name: Rating, Length: 1793, dtype: float64\n"
     ]
    },
    {
     "name": "stderr",
     "output_type": "stream",
     "text": [
      "C:\\Users\\ME-LT\\Anaconda3\\lib\\site-packages\\ipykernel_launcher.py:3: SettingWithCopyWarning: \n",
      "A value is trying to be set on a copy of a slice from a DataFrame.\n",
      "Try using .loc[row_indexer,col_indexer] = value instead\n",
      "\n",
      "See the caveats in the documentation: http://pandas.pydata.org/pandas-docs/stable/user_guide/indexing.html#returning-a-view-versus-a-copy\n",
      "  This is separate from the ipykernel package so we can avoid doing imports until\n"
     ]
    }
   ],
   "source": [
    "# normalize rating dataset\n",
    "scaler = StandardScaler()\n",
    "df[\"Rating\"]= scaler.fit_transform(df[[\"Rating\"]])\n",
    "print(\"rating normalized=\",df[\"Rating\"])"
   ]
  },
  {
   "cell_type": "markdown",
   "metadata": {},
   "source": [
    "# challenge yourself "
   ]
  },
  {
   "cell_type": "code",
   "execution_count": 9,
   "metadata": {},
   "outputs": [
    {
     "name": "stdout",
     "output_type": "stream",
     "text": [
      "companies ordered by their average score= 465      Cote d' Or (Kraft)\n",
      "326               Callebaut\n",
      "1175    Neuhaus (Callebaut)\n",
      "437         Claudio Corallo\n",
      "1694               Valrhona\n",
      "               ...         \n",
      "76                   Amedei\n",
      "77                   Amedei\n",
      "1528                   Soma\n",
      "86                   Amedei\n",
      "78                   Amedei\n",
      "Name: Company (Maker-if known), Length: 1793, dtype: object\n"
     ]
    }
   ],
   "source": [
    "## oder dataframe based on rating in ascending order\n",
    "df=df.sort_values(by=['Rating'])\n",
    "print(\"companies ordered by their average score=\",df[\"Company (Maker-if known)\"])"
   ]
  },
  {
   "cell_type": "markdown",
   "metadata": {},
   "source": [
    "# Encoding"
   ]
  },
  {
   "cell_type": "code",
   "execution_count": 10,
   "metadata": {},
   "outputs": [
    {
     "name": "stdout",
     "output_type": "stream",
     "text": [
      "company name encoder= [106  64 277 ... 353  14  14]\n",
      "company_location_encoder= [ 4  4  4 ...  7 29 29]\n"
     ]
    }
   ],
   "source": [
    "## company Name and location encoder by label encoder\n",
    "encoder = LabelEncoder()\n",
    "# df[\"Company (Maker-if known)\"].nunique()\n",
    "# df[\"CompanyLocation\"].nunique()\n",
    "company_name_encoder= encoder.fit_transform(df[\"Company (Maker-if known)\"])\n",
    "company_location_encoder= encoder.fit_transform(df[\"CompanyLocation\"])\n",
    "print(\"company name encoder=\", company_name_encoder)\n",
    "print(\"company_location_encoder=\", company_location_encoder)"
   ]
  },
  {
   "cell_type": "code",
   "execution_count": null,
   "metadata": {},
   "outputs": [],
   "source": []
  }
 ],
 "metadata": {
  "kernelspec": {
   "display_name": "Python 3",
   "language": "python",
   "name": "python3"
  },
  "language_info": {
   "codemirror_mode": {
    "name": "ipython",
    "version": 3
   },
   "file_extension": ".py",
   "mimetype": "text/x-python",
   "name": "python",
   "nbconvert_exporter": "python",
   "pygments_lexer": "ipython3",
   "version": "3.6.5"
  }
 },
 "nbformat": 4,
 "nbformat_minor": 4
}
